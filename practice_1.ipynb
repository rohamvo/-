{
 "cells": [
  {
   "cell_type": "code",
   "execution_count": 1,
   "metadata": {},
   "outputs": [],
   "source": [
    "import pandas as pd\n",
    "import numpy as np"
   ]
  },
  {
   "cell_type": "code",
   "execution_count": 15,
   "metadata": {},
   "outputs": [],
   "source": [
    "df = pd.read_csv('/home/skanrns97/dataset/P210201.csv')"
   ]
  },
  {
   "cell_type": "code",
   "execution_count": 16,
   "metadata": {},
   "outputs": [
    {
     "data": {
      "text/html": [
       "<div>\n",
       "<style scoped>\n",
       "    .dataframe tbody tr th:only-of-type {\n",
       "        vertical-align: middle;\n",
       "    }\n",
       "\n",
       "    .dataframe tbody tr th {\n",
       "        vertical-align: top;\n",
       "    }\n",
       "\n",
       "    .dataframe thead th {\n",
       "        text-align: right;\n",
       "    }\n",
       "</style>\n",
       "<table border=\"1\" class=\"dataframe\">\n",
       "  <thead>\n",
       "    <tr style=\"text-align: right;\">\n",
       "      <th></th>\n",
       "      <th>Unnamed: 0</th>\n",
       "      <th>crim</th>\n",
       "      <th>zn</th>\n",
       "      <th>indus</th>\n",
       "      <th>chas</th>\n",
       "      <th>nox</th>\n",
       "      <th>rm</th>\n",
       "      <th>age</th>\n",
       "      <th>dis</th>\n",
       "      <th>rad</th>\n",
       "      <th>tax</th>\n",
       "      <th>ptratio</th>\n",
       "      <th>b</th>\n",
       "      <th>lstat</th>\n",
       "      <th>medv</th>\n",
       "    </tr>\n",
       "  </thead>\n",
       "  <tbody>\n",
       "    <tr>\n",
       "      <th>0</th>\n",
       "      <td>1</td>\n",
       "      <td>0.00632</td>\n",
       "      <td>18.0</td>\n",
       "      <td>2.31</td>\n",
       "      <td>0</td>\n",
       "      <td>0.538</td>\n",
       "      <td>6.575</td>\n",
       "      <td>65.2</td>\n",
       "      <td>4.0900</td>\n",
       "      <td>1</td>\n",
       "      <td>296</td>\n",
       "      <td>15.3</td>\n",
       "      <td>396.90</td>\n",
       "      <td>4.98</td>\n",
       "      <td>24.0</td>\n",
       "    </tr>\n",
       "    <tr>\n",
       "      <th>1</th>\n",
       "      <td>2</td>\n",
       "      <td>0.02731</td>\n",
       "      <td>0.0</td>\n",
       "      <td>7.07</td>\n",
       "      <td>0</td>\n",
       "      <td>0.469</td>\n",
       "      <td>6.421</td>\n",
       "      <td>78.9</td>\n",
       "      <td>4.9671</td>\n",
       "      <td>2</td>\n",
       "      <td>242</td>\n",
       "      <td>17.8</td>\n",
       "      <td>396.90</td>\n",
       "      <td>9.14</td>\n",
       "      <td>21.6</td>\n",
       "    </tr>\n",
       "    <tr>\n",
       "      <th>2</th>\n",
       "      <td>3</td>\n",
       "      <td>0.02729</td>\n",
       "      <td>0.0</td>\n",
       "      <td>7.07</td>\n",
       "      <td>0</td>\n",
       "      <td>0.469</td>\n",
       "      <td>7.185</td>\n",
       "      <td>61.1</td>\n",
       "      <td>4.9671</td>\n",
       "      <td>2</td>\n",
       "      <td>242</td>\n",
       "      <td>17.8</td>\n",
       "      <td>392.83</td>\n",
       "      <td>4.03</td>\n",
       "      <td>34.7</td>\n",
       "    </tr>\n",
       "    <tr>\n",
       "      <th>3</th>\n",
       "      <td>4</td>\n",
       "      <td>0.03237</td>\n",
       "      <td>0.0</td>\n",
       "      <td>2.18</td>\n",
       "      <td>0</td>\n",
       "      <td>0.458</td>\n",
       "      <td>6.998</td>\n",
       "      <td>45.8</td>\n",
       "      <td>6.0622</td>\n",
       "      <td>3</td>\n",
       "      <td>222</td>\n",
       "      <td>18.7</td>\n",
       "      <td>394.63</td>\n",
       "      <td>2.94</td>\n",
       "      <td>33.4</td>\n",
       "    </tr>\n",
       "    <tr>\n",
       "      <th>4</th>\n",
       "      <td>5</td>\n",
       "      <td>0.06905</td>\n",
       "      <td>0.0</td>\n",
       "      <td>2.18</td>\n",
       "      <td>0</td>\n",
       "      <td>0.458</td>\n",
       "      <td>7.147</td>\n",
       "      <td>54.2</td>\n",
       "      <td>6.0622</td>\n",
       "      <td>3</td>\n",
       "      <td>222</td>\n",
       "      <td>18.7</td>\n",
       "      <td>396.90</td>\n",
       "      <td>5.33</td>\n",
       "      <td>36.2</td>\n",
       "    </tr>\n",
       "  </tbody>\n",
       "</table>\n",
       "</div>"
      ],
      "text/plain": [
       "   Unnamed: 0     crim    zn  indus  chas    nox     rm   age     dis  rad  \\\n",
       "0           1  0.00632  18.0   2.31     0  0.538  6.575  65.2  4.0900    1   \n",
       "1           2  0.02731   0.0   7.07     0  0.469  6.421  78.9  4.9671    2   \n",
       "2           3  0.02729   0.0   7.07     0  0.469  7.185  61.1  4.9671    2   \n",
       "3           4  0.03237   0.0   2.18     0  0.458  6.998  45.8  6.0622    3   \n",
       "4           5  0.06905   0.0   2.18     0  0.458  7.147  54.2  6.0622    3   \n",
       "\n",
       "   tax  ptratio       b  lstat  medv  \n",
       "0  296     15.3  396.90   4.98  24.0  \n",
       "1  242     17.8  396.90   9.14  21.6  \n",
       "2  242     17.8  392.83   4.03  34.7  \n",
       "3  222     18.7  394.63   2.94  33.4  \n",
       "4  222     18.7  396.90   5.33  36.2  "
      ]
     },
     "execution_count": 16,
     "metadata": {},
     "output_type": "execute_result"
    }
   ],
   "source": [
    "df.head(5)"
   ]
  },
  {
   "cell_type": "code",
   "execution_count": 19,
   "metadata": {},
   "outputs": [],
   "source": [
    "df = df.sort_values('crim', ascending = False)"
   ]
  },
  {
   "cell_type": "code",
   "execution_count": 22,
   "metadata": {},
   "outputs": [
    {
     "name": "stderr",
     "output_type": "stream",
     "text": [
      "/tmp/ipykernel_149915/3392630621.py:1: FutureWarning: ChainedAssignmentError: behaviour will change in pandas 3.0!\n",
      "You are setting values through chained assignment. Currently this works in certain cases, but when using Copy-on-Write (which will become the default behaviour in pandas 3.0) this will never work to update the original DataFrame or Series, because the intermediate object on which we are setting values will behave as a copy.\n",
      "A typical example is when you are setting values in a column of a DataFrame, like:\n",
      "\n",
      "df[\"col\"][row_indexer] = value\n",
      "\n",
      "Use `df.loc[row_indexer, \"col\"] = values` instead, to perform the assignment in a single step and ensure this keeps updating the original `df`.\n",
      "\n",
      "See the caveats in the documentation: https://pandas.pydata.org/pandas-docs/stable/user_guide/indexing.html#returning-a-view-versus-a-copy\n",
      "\n",
      "  df['crim'][:10] = df['crim'].iloc[9]\n",
      "/tmp/ipykernel_149915/3392630621.py:1: SettingWithCopyWarning: \n",
      "A value is trying to be set on a copy of a slice from a DataFrame\n",
      "\n",
      "See the caveats in the documentation: https://pandas.pydata.org/pandas-docs/stable/user_guide/indexing.html#returning-a-view-versus-a-copy\n",
      "  df['crim'][:10] = df['crim'].iloc[9]\n"
     ]
    }
   ],
   "source": [
    "df['crim'][:10] = df['crim'].iloc[9]"
   ]
  },
  {
   "cell_type": "code",
   "execution_count": 23,
   "metadata": {},
   "outputs": [
    {
     "data": {
      "text/html": [
       "<div>\n",
       "<style scoped>\n",
       "    .dataframe tbody tr th:only-of-type {\n",
       "        vertical-align: middle;\n",
       "    }\n",
       "\n",
       "    .dataframe tbody tr th {\n",
       "        vertical-align: top;\n",
       "    }\n",
       "\n",
       "    .dataframe thead th {\n",
       "        text-align: right;\n",
       "    }\n",
       "</style>\n",
       "<table border=\"1\" class=\"dataframe\">\n",
       "  <thead>\n",
       "    <tr style=\"text-align: right;\">\n",
       "      <th></th>\n",
       "      <th>Unnamed: 0</th>\n",
       "      <th>crim</th>\n",
       "      <th>zn</th>\n",
       "      <th>indus</th>\n",
       "      <th>chas</th>\n",
       "      <th>nox</th>\n",
       "      <th>rm</th>\n",
       "      <th>age</th>\n",
       "      <th>dis</th>\n",
       "      <th>rad</th>\n",
       "      <th>tax</th>\n",
       "      <th>ptratio</th>\n",
       "      <th>b</th>\n",
       "      <th>lstat</th>\n",
       "      <th>medv</th>\n",
       "    </tr>\n",
       "  </thead>\n",
       "  <tbody>\n",
       "    <tr>\n",
       "      <th>380</th>\n",
       "      <td>381</td>\n",
       "      <td>25.9406</td>\n",
       "      <td>0.0</td>\n",
       "      <td>18.1</td>\n",
       "      <td>0</td>\n",
       "      <td>0.671</td>\n",
       "      <td>6.968</td>\n",
       "      <td>91.9</td>\n",
       "      <td>1.4165</td>\n",
       "      <td>24</td>\n",
       "      <td>666</td>\n",
       "      <td>20.2</td>\n",
       "      <td>396.90</td>\n",
       "      <td>17.21</td>\n",
       "      <td>10.4</td>\n",
       "    </tr>\n",
       "    <tr>\n",
       "      <th>418</th>\n",
       "      <td>419</td>\n",
       "      <td>25.9406</td>\n",
       "      <td>0.0</td>\n",
       "      <td>18.1</td>\n",
       "      <td>0</td>\n",
       "      <td>0.679</td>\n",
       "      <td>5.957</td>\n",
       "      <td>100.0</td>\n",
       "      <td>1.8026</td>\n",
       "      <td>24</td>\n",
       "      <td>666</td>\n",
       "      <td>20.2</td>\n",
       "      <td>16.45</td>\n",
       "      <td>20.62</td>\n",
       "      <td>8.8</td>\n",
       "    </tr>\n",
       "    <tr>\n",
       "      <th>405</th>\n",
       "      <td>406</td>\n",
       "      <td>25.9406</td>\n",
       "      <td>0.0</td>\n",
       "      <td>18.1</td>\n",
       "      <td>0</td>\n",
       "      <td>0.693</td>\n",
       "      <td>5.683</td>\n",
       "      <td>100.0</td>\n",
       "      <td>1.4254</td>\n",
       "      <td>24</td>\n",
       "      <td>666</td>\n",
       "      <td>20.2</td>\n",
       "      <td>384.97</td>\n",
       "      <td>22.98</td>\n",
       "      <td>5.0</td>\n",
       "    </tr>\n",
       "    <tr>\n",
       "      <th>410</th>\n",
       "      <td>411</td>\n",
       "      <td>25.9406</td>\n",
       "      <td>0.0</td>\n",
       "      <td>18.1</td>\n",
       "      <td>0</td>\n",
       "      <td>0.597</td>\n",
       "      <td>5.757</td>\n",
       "      <td>100.0</td>\n",
       "      <td>1.4130</td>\n",
       "      <td>24</td>\n",
       "      <td>666</td>\n",
       "      <td>20.2</td>\n",
       "      <td>2.60</td>\n",
       "      <td>10.11</td>\n",
       "      <td>15.0</td>\n",
       "    </tr>\n",
       "    <tr>\n",
       "      <th>414</th>\n",
       "      <td>415</td>\n",
       "      <td>25.9406</td>\n",
       "      <td>0.0</td>\n",
       "      <td>18.1</td>\n",
       "      <td>0</td>\n",
       "      <td>0.693</td>\n",
       "      <td>4.519</td>\n",
       "      <td>100.0</td>\n",
       "      <td>1.6582</td>\n",
       "      <td>24</td>\n",
       "      <td>666</td>\n",
       "      <td>20.2</td>\n",
       "      <td>88.27</td>\n",
       "      <td>36.98</td>\n",
       "      <td>7.0</td>\n",
       "    </tr>\n",
       "  </tbody>\n",
       "</table>\n",
       "</div>"
      ],
      "text/plain": [
       "     Unnamed: 0     crim   zn  indus  chas    nox     rm    age     dis  rad  \\\n",
       "380         381  25.9406  0.0   18.1     0  0.671  6.968   91.9  1.4165   24   \n",
       "418         419  25.9406  0.0   18.1     0  0.679  5.957  100.0  1.8026   24   \n",
       "405         406  25.9406  0.0   18.1     0  0.693  5.683  100.0  1.4254   24   \n",
       "410         411  25.9406  0.0   18.1     0  0.597  5.757  100.0  1.4130   24   \n",
       "414         415  25.9406  0.0   18.1     0  0.693  4.519  100.0  1.6582   24   \n",
       "\n",
       "     tax  ptratio       b  lstat  medv  \n",
       "380  666     20.2  396.90  17.21  10.4  \n",
       "418  666     20.2   16.45  20.62   8.8  \n",
       "405  666     20.2  384.97  22.98   5.0  \n",
       "410  666     20.2    2.60  10.11  15.0  \n",
       "414  666     20.2   88.27  36.98   7.0  "
      ]
     },
     "execution_count": 23,
     "metadata": {},
     "output_type": "execute_result"
    }
   ],
   "source": [
    "df.head(5)"
   ]
  },
  {
   "cell_type": "code",
   "execution_count": 26,
   "metadata": {},
   "outputs": [],
   "source": [
    "result_df = df[df['age'] >= 80]"
   ]
  },
  {
   "cell_type": "code",
   "execution_count": 27,
   "metadata": {},
   "outputs": [],
   "source": [
    "answer = result_df['crim'].mean()"
   ]
  },
  {
   "cell_type": "code",
   "execution_count": 29,
   "metadata": {},
   "outputs": [],
   "source": [
    "answer = round(answer,2)"
   ]
  },
  {
   "cell_type": "code",
   "execution_count": 30,
   "metadata": {},
   "outputs": [
    {
     "data": {
      "text/plain": [
       "5.76"
      ]
     },
     "execution_count": 30,
     "metadata": {},
     "output_type": "execute_result"
    }
   ],
   "source": [
    "answer"
   ]
  },
  {
   "cell_type": "code",
   "execution_count": 49,
   "metadata": {},
   "outputs": [],
   "source": [
    "df = pd.read_csv('/home/skanrns97/dataset/P210202.csv')"
   ]
  },
  {
   "cell_type": "code",
   "execution_count": 50,
   "metadata": {},
   "outputs": [
    {
     "data": {
      "text/html": [
       "<div>\n",
       "<style scoped>\n",
       "    .dataframe tbody tr th:only-of-type {\n",
       "        vertical-align: middle;\n",
       "    }\n",
       "\n",
       "    .dataframe tbody tr th {\n",
       "        vertical-align: top;\n",
       "    }\n",
       "\n",
       "    .dataframe thead th {\n",
       "        text-align: right;\n",
       "    }\n",
       "</style>\n",
       "<table border=\"1\" class=\"dataframe\">\n",
       "  <thead>\n",
       "    <tr style=\"text-align: right;\">\n",
       "      <th></th>\n",
       "      <th>longitude</th>\n",
       "      <th>latitude</th>\n",
       "      <th>housing_median_age</th>\n",
       "      <th>total_rooms</th>\n",
       "      <th>total_bedrooms</th>\n",
       "      <th>population</th>\n",
       "      <th>households</th>\n",
       "      <th>median_income</th>\n",
       "      <th>median_house_value</th>\n",
       "      <th>ocean_proximity</th>\n",
       "    </tr>\n",
       "  </thead>\n",
       "  <tbody>\n",
       "    <tr>\n",
       "      <th>0</th>\n",
       "      <td>-122.23</td>\n",
       "      <td>37.88</td>\n",
       "      <td>41.0</td>\n",
       "      <td>880.0</td>\n",
       "      <td>129.0</td>\n",
       "      <td>322.0</td>\n",
       "      <td>126.0</td>\n",
       "      <td>8.3252</td>\n",
       "      <td>452600.0</td>\n",
       "      <td>NEAR BAY</td>\n",
       "    </tr>\n",
       "    <tr>\n",
       "      <th>1</th>\n",
       "      <td>-122.22</td>\n",
       "      <td>37.86</td>\n",
       "      <td>21.0</td>\n",
       "      <td>7099.0</td>\n",
       "      <td>1106.0</td>\n",
       "      <td>2401.0</td>\n",
       "      <td>1138.0</td>\n",
       "      <td>8.3014</td>\n",
       "      <td>358500.0</td>\n",
       "      <td>NEAR BAY</td>\n",
       "    </tr>\n",
       "    <tr>\n",
       "      <th>2</th>\n",
       "      <td>-122.24</td>\n",
       "      <td>37.85</td>\n",
       "      <td>52.0</td>\n",
       "      <td>1467.0</td>\n",
       "      <td>190.0</td>\n",
       "      <td>496.0</td>\n",
       "      <td>177.0</td>\n",
       "      <td>7.2574</td>\n",
       "      <td>352100.0</td>\n",
       "      <td>NEAR BAY</td>\n",
       "    </tr>\n",
       "    <tr>\n",
       "      <th>3</th>\n",
       "      <td>-122.25</td>\n",
       "      <td>37.85</td>\n",
       "      <td>52.0</td>\n",
       "      <td>1274.0</td>\n",
       "      <td>235.0</td>\n",
       "      <td>558.0</td>\n",
       "      <td>219.0</td>\n",
       "      <td>5.6431</td>\n",
       "      <td>341300.0</td>\n",
       "      <td>NEAR BAY</td>\n",
       "    </tr>\n",
       "    <tr>\n",
       "      <th>4</th>\n",
       "      <td>-122.25</td>\n",
       "      <td>37.85</td>\n",
       "      <td>52.0</td>\n",
       "      <td>1627.0</td>\n",
       "      <td>280.0</td>\n",
       "      <td>565.0</td>\n",
       "      <td>259.0</td>\n",
       "      <td>3.8462</td>\n",
       "      <td>342200.0</td>\n",
       "      <td>NEAR BAY</td>\n",
       "    </tr>\n",
       "  </tbody>\n",
       "</table>\n",
       "</div>"
      ],
      "text/plain": [
       "   longitude  latitude  housing_median_age  total_rooms  total_bedrooms  \\\n",
       "0    -122.23     37.88                41.0        880.0           129.0   \n",
       "1    -122.22     37.86                21.0       7099.0          1106.0   \n",
       "2    -122.24     37.85                52.0       1467.0           190.0   \n",
       "3    -122.25     37.85                52.0       1274.0           235.0   \n",
       "4    -122.25     37.85                52.0       1627.0           280.0   \n",
       "\n",
       "   population  households  median_income  median_house_value ocean_proximity  \n",
       "0       322.0       126.0         8.3252            452600.0        NEAR BAY  \n",
       "1      2401.0      1138.0         8.3014            358500.0        NEAR BAY  \n",
       "2       496.0       177.0         7.2574            352100.0        NEAR BAY  \n",
       "3       558.0       219.0         5.6431            341300.0        NEAR BAY  \n",
       "4       565.0       259.0         3.8462            342200.0        NEAR BAY  "
      ]
     },
     "execution_count": 50,
     "metadata": {},
     "output_type": "execute_result"
    }
   ],
   "source": [
    "df.head(5)"
   ]
  },
  {
   "cell_type": "code",
   "execution_count": 51,
   "metadata": {},
   "outputs": [],
   "source": [
    "result_df = df.iloc[:(int(len(df)*0.8))]"
   ]
  },
  {
   "cell_type": "code",
   "execution_count": 52,
   "metadata": {},
   "outputs": [],
   "source": [
    "median = df['total_bedrooms'].median()\n",
    "before_std = result_df['total_bedrooms'].std()"
   ]
  },
  {
   "cell_type": "code",
   "execution_count": 53,
   "metadata": {},
   "outputs": [
    {
     "name": "stderr",
     "output_type": "stream",
     "text": [
      "/tmp/ipykernel_149915/1491856302.py:1: SettingWithCopyWarning: \n",
      "A value is trying to be set on a copy of a slice from a DataFrame.\n",
      "Try using .loc[row_indexer,col_indexer] = value instead\n",
      "\n",
      "See the caveats in the documentation: https://pandas.pydata.org/pandas-docs/stable/user_guide/indexing.html#returning-a-view-versus-a-copy\n",
      "  result_df['total_bedrooms'] = result_df['total_bedrooms'].fillna(median)\n"
     ]
    }
   ],
   "source": [
    "result_df['total_bedrooms'] = result_df['total_bedrooms'].fillna(median)"
   ]
  },
  {
   "cell_type": "code",
   "execution_count": 54,
   "metadata": {},
   "outputs": [],
   "source": [
    "after_std = result_df['total_bedrooms'].std()"
   ]
  },
  {
   "cell_type": "code",
   "execution_count": 55,
   "metadata": {},
   "outputs": [
    {
     "name": "stdout",
     "output_type": "stream",
     "text": [
      "1.97\n"
     ]
    }
   ],
   "source": [
    "answer = round(abs(before_std - after_std), 2)\n",
    "print(answer)"
   ]
  },
  {
   "cell_type": "code",
   "execution_count": 67,
   "metadata": {},
   "outputs": [],
   "source": [
    "df = pd.read_csv('/home/skanrns97/dataset/P210203.csv')"
   ]
  },
  {
   "cell_type": "code",
   "execution_count": 68,
   "metadata": {},
   "outputs": [],
   "source": [
    "std = df['charges'].std()\n",
    "mean = df['charges'].mean()"
   ]
  },
  {
   "cell_type": "code",
   "execution_count": 69,
   "metadata": {},
   "outputs": [],
   "source": [
    "result_df = df[(df['charges'] <= (mean-(1.5*std))) | (df['charges'] >= (mean+(1.5*std)))]"
   ]
  },
  {
   "cell_type": "code",
   "execution_count": 70,
   "metadata": {},
   "outputs": [
    {
     "name": "stdout",
     "output_type": "stream",
     "text": [
      "6421430\n"
     ]
    }
   ],
   "source": [
    "answer = int(sum(result_df['charges']))\n",
    "print(answer)"
   ]
  },
  {
   "cell_type": "code",
   "execution_count": 76,
   "metadata": {},
   "outputs": [],
   "source": [
    "df = pd.read_csv('/home/skanrns97/dataset/P210301.csv')"
   ]
  },
  {
   "cell_type": "code",
   "execution_count": 77,
   "metadata": {},
   "outputs": [],
   "source": [
    "df = df.dropna()"
   ]
  },
  {
   "cell_type": "code",
   "execution_count": 78,
   "metadata": {},
   "outputs": [],
   "source": [
    "train_df = df[:int(len(df)*0.7)]"
   ]
  },
  {
   "cell_type": "code",
   "execution_count": 81,
   "metadata": {},
   "outputs": [],
   "source": [
    "answer = int(np.quantile(train_df['housing_median_age'], q = 0.25))"
   ]
  },
  {
   "cell_type": "code",
   "execution_count": 82,
   "metadata": {},
   "outputs": [
    {
     "data": {
      "text/plain": [
       "19"
      ]
     },
     "execution_count": 82,
     "metadata": {},
     "output_type": "execute_result"
    }
   ],
   "source": [
    "answer"
   ]
  },
  {
   "cell_type": "code",
   "execution_count": 83,
   "metadata": {},
   "outputs": [],
   "source": [
    "df = pd.read_csv('/home/skanrns97/dataset/P210302.csv')"
   ]
  },
  {
   "cell_type": "code",
   "execution_count": 84,
   "metadata": {},
   "outputs": [],
   "source": [
    "nc = df.isna().sum() / len(df)"
   ]
  },
  {
   "cell_type": "code",
   "execution_count": 86,
   "metadata": {},
   "outputs": [],
   "source": [
    "nc = nc.sort_values(ascending = False)"
   ]
  },
  {
   "cell_type": "code",
   "execution_count": 92,
   "metadata": {},
   "outputs": [],
   "source": [
    "answer = nc.keys()[0]"
   ]
  },
  {
   "cell_type": "code",
   "execution_count": 93,
   "metadata": {},
   "outputs": [
    {
     "data": {
      "text/plain": [
       "'Age'"
      ]
     },
     "execution_count": 93,
     "metadata": {},
     "output_type": "execute_result"
    }
   ],
   "source": [
    "answer"
   ]
  },
  {
   "cell_type": "code",
   "execution_count": 94,
   "metadata": {},
   "outputs": [],
   "source": [
    "df = pd.read_csv('/home/skanrns97/dataset/P220401.csv')"
   ]
  },
  {
   "cell_type": "code",
   "execution_count": 95,
   "metadata": {},
   "outputs": [
    {
     "data": {
      "text/html": [
       "<div>\n",
       "<style scoped>\n",
       "    .dataframe tbody tr th:only-of-type {\n",
       "        vertical-align: middle;\n",
       "    }\n",
       "\n",
       "    .dataframe tbody tr th {\n",
       "        vertical-align: top;\n",
       "    }\n",
       "\n",
       "    .dataframe thead th {\n",
       "        text-align: right;\n",
       "    }\n",
       "</style>\n",
       "<table border=\"1\" class=\"dataframe\">\n",
       "  <thead>\n",
       "    <tr style=\"text-align: right;\">\n",
       "      <th></th>\n",
       "      <th>x</th>\n",
       "      <th>y</th>\n",
       "    </tr>\n",
       "  </thead>\n",
       "  <tbody>\n",
       "    <tr>\n",
       "      <th>0</th>\n",
       "      <td>1</td>\n",
       "      <td>86</td>\n",
       "    </tr>\n",
       "    <tr>\n",
       "      <th>1</th>\n",
       "      <td>2</td>\n",
       "      <td>91</td>\n",
       "    </tr>\n",
       "    <tr>\n",
       "      <th>2</th>\n",
       "      <td>3</td>\n",
       "      <td>15</td>\n",
       "    </tr>\n",
       "    <tr>\n",
       "      <th>3</th>\n",
       "      <td>4</td>\n",
       "      <td>50</td>\n",
       "    </tr>\n",
       "    <tr>\n",
       "      <th>4</th>\n",
       "      <td>5</td>\n",
       "      <td>78</td>\n",
       "    </tr>\n",
       "  </tbody>\n",
       "</table>\n",
       "</div>"
      ],
      "text/plain": [
       "   x   y\n",
       "0  1  86\n",
       "1  2  91\n",
       "2  3  15\n",
       "3  4  50\n",
       "4  5  78"
      ]
     },
     "execution_count": 95,
     "metadata": {},
     "output_type": "execute_result"
    }
   ],
   "source": [
    "df.head(5)"
   ]
  },
  {
   "cell_type": "code",
   "execution_count": 96,
   "metadata": {},
   "outputs": [
    {
     "data": {
      "text/plain": [
       "36"
      ]
     },
     "execution_count": 96,
     "metadata": {},
     "output_type": "execute_result"
    }
   ],
   "source": [
    "y1 = np.quantile(df['y'], q = 0.25)\n",
    "y3 = np.quantile(df['y'], q = 0.75)\n",
    "answer = int(y3-y1)\n",
    "answer"
   ]
  },
  {
   "cell_type": "code",
   "execution_count": 97,
   "metadata": {},
   "outputs": [],
   "source": [
    "df = pd.read_csv('/home/skanrns97/dataset/P220402.csv')"
   ]
  },
  {
   "cell_type": "code",
   "execution_count": 98,
   "metadata": {},
   "outputs": [
    {
     "data": {
      "text/html": [
       "<div>\n",
       "<style scoped>\n",
       "    .dataframe tbody tr th:only-of-type {\n",
       "        vertical-align: middle;\n",
       "    }\n",
       "\n",
       "    .dataframe tbody tr th {\n",
       "        vertical-align: top;\n",
       "    }\n",
       "\n",
       "    .dataframe thead th {\n",
       "        text-align: right;\n",
       "    }\n",
       "</style>\n",
       "<table border=\"1\" class=\"dataframe\">\n",
       "  <thead>\n",
       "    <tr style=\"text-align: right;\">\n",
       "      <th></th>\n",
       "      <th>status_id</th>\n",
       "      <th>status_type</th>\n",
       "      <th>status_published</th>\n",
       "      <th>num_reactions</th>\n",
       "      <th>num_comments</th>\n",
       "      <th>num_shares</th>\n",
       "      <th>num_likes</th>\n",
       "      <th>num_loves</th>\n",
       "      <th>num_wows</th>\n",
       "      <th>num_hahas</th>\n",
       "      <th>num_sads</th>\n",
       "      <th>num_angrys</th>\n",
       "    </tr>\n",
       "  </thead>\n",
       "  <tbody>\n",
       "    <tr>\n",
       "      <th>0</th>\n",
       "      <td>1</td>\n",
       "      <td>video</td>\n",
       "      <td>4/22/2018 6:00</td>\n",
       "      <td>529</td>\n",
       "      <td>512</td>\n",
       "      <td>262</td>\n",
       "      <td>432</td>\n",
       "      <td>92</td>\n",
       "      <td>3</td>\n",
       "      <td>1</td>\n",
       "      <td>1</td>\n",
       "      <td>0</td>\n",
       "    </tr>\n",
       "    <tr>\n",
       "      <th>1</th>\n",
       "      <td>2</td>\n",
       "      <td>photo</td>\n",
       "      <td>4/21/2018 22:45</td>\n",
       "      <td>150</td>\n",
       "      <td>0</td>\n",
       "      <td>0</td>\n",
       "      <td>150</td>\n",
       "      <td>0</td>\n",
       "      <td>0</td>\n",
       "      <td>0</td>\n",
       "      <td>0</td>\n",
       "      <td>0</td>\n",
       "    </tr>\n",
       "    <tr>\n",
       "      <th>2</th>\n",
       "      <td>3</td>\n",
       "      <td>video</td>\n",
       "      <td>4/21/2018 6:17</td>\n",
       "      <td>227</td>\n",
       "      <td>236</td>\n",
       "      <td>57</td>\n",
       "      <td>204</td>\n",
       "      <td>21</td>\n",
       "      <td>1</td>\n",
       "      <td>1</td>\n",
       "      <td>0</td>\n",
       "      <td>0</td>\n",
       "    </tr>\n",
       "    <tr>\n",
       "      <th>3</th>\n",
       "      <td>4</td>\n",
       "      <td>photo</td>\n",
       "      <td>4/21/2018 2:29</td>\n",
       "      <td>111</td>\n",
       "      <td>0</td>\n",
       "      <td>0</td>\n",
       "      <td>111</td>\n",
       "      <td>0</td>\n",
       "      <td>0</td>\n",
       "      <td>0</td>\n",
       "      <td>0</td>\n",
       "      <td>0</td>\n",
       "    </tr>\n",
       "    <tr>\n",
       "      <th>4</th>\n",
       "      <td>5</td>\n",
       "      <td>photo</td>\n",
       "      <td>4/18/2018 3:22</td>\n",
       "      <td>213</td>\n",
       "      <td>0</td>\n",
       "      <td>0</td>\n",
       "      <td>204</td>\n",
       "      <td>9</td>\n",
       "      <td>0</td>\n",
       "      <td>0</td>\n",
       "      <td>0</td>\n",
       "      <td>0</td>\n",
       "    </tr>\n",
       "  </tbody>\n",
       "</table>\n",
       "</div>"
      ],
      "text/plain": [
       "   status_id status_type status_published  num_reactions  num_comments  \\\n",
       "0          1       video   4/22/2018 6:00            529           512   \n",
       "1          2       photo  4/21/2018 22:45            150             0   \n",
       "2          3       video   4/21/2018 6:17            227           236   \n",
       "3          4       photo   4/21/2018 2:29            111             0   \n",
       "4          5       photo   4/18/2018 3:22            213             0   \n",
       "\n",
       "   num_shares  num_likes  num_loves  num_wows  num_hahas  num_sads  num_angrys  \n",
       "0         262        432         92         3          1         1           0  \n",
       "1           0        150          0         0          0         0           0  \n",
       "2          57        204         21         1          1         0           0  \n",
       "3           0        111          0         0          0         0           0  \n",
       "4           0        204          9         0          0         0           0  "
      ]
     },
     "execution_count": 98,
     "metadata": {},
     "output_type": "execute_result"
    }
   ],
   "source": [
    "df.head(5)"
   ]
  },
  {
   "cell_type": "code",
   "execution_count": 102,
   "metadata": {},
   "outputs": [],
   "source": [
    "df['rate'] = (df['num_loves'] + df['num_wows']) / df['num_reactions']"
   ]
  },
  {
   "cell_type": "code",
   "execution_count": 104,
   "metadata": {},
   "outputs": [
    {
     "name": "stdout",
     "output_type": "stream",
     "text": [
      "90\n"
     ]
    }
   ],
   "source": [
    "answer = len(df[(df['rate'] > 0.4) & (df['rate'] < 0.5)])\n",
    "print(answer)"
   ]
  },
  {
   "cell_type": "code",
   "execution_count": 107,
   "metadata": {},
   "outputs": [
    {
     "data": {
      "text/plain": [
       "0       September 25, 2021\n",
       "1       September 24, 2021\n",
       "2       September 24, 2021\n",
       "3       September 24, 2021\n",
       "4       September 24, 2021\n",
       "               ...        \n",
       "8802     November 20, 2019\n",
       "8803          July 1, 2019\n",
       "8804      November 1, 2019\n",
       "8805      January 11, 2020\n",
       "8806         March 2, 2019\n",
       "Name: date_added, Length: 8807, dtype: object"
      ]
     },
     "execution_count": 107,
     "metadata": {},
     "output_type": "execute_result"
    }
   ],
   "source": [
    "df = pd.read_csv('/home/skanrns97/dataset/P220403.csv')\n",
    "df['date_added']"
   ]
  },
  {
   "cell_type": "code",
   "execution_count": 108,
   "metadata": {},
   "outputs": [],
   "source": [
    "df['date_added'] = pd.to_datetime(df['date_added'], format = '%B %d, %Y')"
   ]
  },
  {
   "cell_type": "code",
   "execution_count": 110,
   "metadata": {},
   "outputs": [
    {
     "data": {
      "text/plain": [
       "6"
      ]
     },
     "execution_count": 110,
     "metadata": {},
     "output_type": "execute_result"
    }
   ],
   "source": [
    "result = df[(df['country'] == 'United Kingdom') & (df['date_added'].dt.year == 2018) & (df['date_added'].dt.month == 1)]\n",
    "answer = len(result)\n",
    "answer"
   ]
  },
  {
   "cell_type": "code",
   "execution_count": 114,
   "metadata": {},
   "outputs": [],
   "source": [
    "df = pd.read_csv('/home/skanrns97/dataset/P220501.csv', encoding = 'euc-kr')"
   ]
  },
  {
   "cell_type": "code",
   "execution_count": 115,
   "metadata": {},
   "outputs": [
    {
     "data": {
      "text/html": [
       "<div>\n",
       "<style scoped>\n",
       "    .dataframe tbody tr th:only-of-type {\n",
       "        vertical-align: middle;\n",
       "    }\n",
       "\n",
       "    .dataframe tbody tr th {\n",
       "        vertical-align: top;\n",
       "    }\n",
       "\n",
       "    .dataframe thead th {\n",
       "        text-align: right;\n",
       "    }\n",
       "</style>\n",
       "<table border=\"1\" class=\"dataframe\">\n",
       "  <thead>\n",
       "    <tr style=\"text-align: right;\">\n",
       "      <th></th>\n",
       "      <th>시도명</th>\n",
       "      <th>시군구명</th>\n",
       "      <th>종량제봉투종류</th>\n",
       "      <th>종량제봉투처리방식</th>\n",
       "      <th>종량제봉투용도</th>\n",
       "      <th>종량제봉투사용대상</th>\n",
       "      <th>1L가격</th>\n",
       "      <th>1.5L가격</th>\n",
       "      <th>2L가격</th>\n",
       "      <th>2.5L가격</th>\n",
       "      <th>...</th>\n",
       "      <th>60L가격</th>\n",
       "      <th>75L가격</th>\n",
       "      <th>100L가격</th>\n",
       "      <th>120L가격</th>\n",
       "      <th>125L가격</th>\n",
       "      <th>관리부서명</th>\n",
       "      <th>관리부서전화번호</th>\n",
       "      <th>데이터기준일자</th>\n",
       "      <th>제공기관코드</th>\n",
       "      <th>제공기관명</th>\n",
       "    </tr>\n",
       "  </thead>\n",
       "  <tbody>\n",
       "    <tr>\n",
       "      <th>0</th>\n",
       "      <td>경기도</td>\n",
       "      <td>안양시</td>\n",
       "      <td>규격봉투</td>\n",
       "      <td>매립용</td>\n",
       "      <td>생활쓰레기</td>\n",
       "      <td>사업장용</td>\n",
       "      <td>0</td>\n",
       "      <td>0</td>\n",
       "      <td>0</td>\n",
       "      <td>0</td>\n",
       "      <td>...</td>\n",
       "      <td>0</td>\n",
       "      <td>2100</td>\n",
       "      <td>0</td>\n",
       "      <td>0</td>\n",
       "      <td>0</td>\n",
       "      <td>자원순환과</td>\n",
       "      <td>031-8045-5448</td>\n",
       "      <td>2022-08-12</td>\n",
       "      <td>3830000</td>\n",
       "      <td>경기도 안양시</td>\n",
       "    </tr>\n",
       "    <tr>\n",
       "      <th>1</th>\n",
       "      <td>경기도</td>\n",
       "      <td>안양시</td>\n",
       "      <td>규격봉투</td>\n",
       "      <td>매립용</td>\n",
       "      <td>생활쓰레기</td>\n",
       "      <td>기타</td>\n",
       "      <td>0</td>\n",
       "      <td>0</td>\n",
       "      <td>0</td>\n",
       "      <td>0</td>\n",
       "      <td>...</td>\n",
       "      <td>0</td>\n",
       "      <td>2100</td>\n",
       "      <td>0</td>\n",
       "      <td>0</td>\n",
       "      <td>0</td>\n",
       "      <td>자원순환과</td>\n",
       "      <td>031-8045-5448</td>\n",
       "      <td>2022-08-12</td>\n",
       "      <td>3830000</td>\n",
       "      <td>경기도 안양시</td>\n",
       "    </tr>\n",
       "    <tr>\n",
       "      <th>2</th>\n",
       "      <td>경기도</td>\n",
       "      <td>안양시</td>\n",
       "      <td>규격봉투</td>\n",
       "      <td>소각용</td>\n",
       "      <td>음식물쓰레기</td>\n",
       "      <td>가정용</td>\n",
       "      <td>0</td>\n",
       "      <td>50</td>\n",
       "      <td>0</td>\n",
       "      <td>80</td>\n",
       "      <td>...</td>\n",
       "      <td>0</td>\n",
       "      <td>0</td>\n",
       "      <td>0</td>\n",
       "      <td>0</td>\n",
       "      <td>0</td>\n",
       "      <td>자원순환과</td>\n",
       "      <td>031-8045-5448</td>\n",
       "      <td>2022-08-12</td>\n",
       "      <td>3830000</td>\n",
       "      <td>경기도 안양시</td>\n",
       "    </tr>\n",
       "    <tr>\n",
       "      <th>3</th>\n",
       "      <td>경기도</td>\n",
       "      <td>안양시</td>\n",
       "      <td>규격봉투</td>\n",
       "      <td>소각용</td>\n",
       "      <td>음식물쓰레기</td>\n",
       "      <td>사업장용</td>\n",
       "      <td>0</td>\n",
       "      <td>50</td>\n",
       "      <td>0</td>\n",
       "      <td>80</td>\n",
       "      <td>...</td>\n",
       "      <td>0</td>\n",
       "      <td>0</td>\n",
       "      <td>0</td>\n",
       "      <td>0</td>\n",
       "      <td>0</td>\n",
       "      <td>자원순환과</td>\n",
       "      <td>031-8045-5448</td>\n",
       "      <td>2022-08-12</td>\n",
       "      <td>3830000</td>\n",
       "      <td>경기도 안양시</td>\n",
       "    </tr>\n",
       "    <tr>\n",
       "      <th>4</th>\n",
       "      <td>경기도</td>\n",
       "      <td>안양시</td>\n",
       "      <td>규격봉투</td>\n",
       "      <td>소각용</td>\n",
       "      <td>음식물쓰레기</td>\n",
       "      <td>기타</td>\n",
       "      <td>0</td>\n",
       "      <td>50</td>\n",
       "      <td>0</td>\n",
       "      <td>80</td>\n",
       "      <td>...</td>\n",
       "      <td>0</td>\n",
       "      <td>0</td>\n",
       "      <td>0</td>\n",
       "      <td>0</td>\n",
       "      <td>0</td>\n",
       "      <td>자원순환과</td>\n",
       "      <td>031-8045-5448</td>\n",
       "      <td>2022-08-12</td>\n",
       "      <td>3830000</td>\n",
       "      <td>경기도 안양시</td>\n",
       "    </tr>\n",
       "  </tbody>\n",
       "</table>\n",
       "<p>5 rows × 26 columns</p>\n",
       "</div>"
      ],
      "text/plain": [
       "   시도명 시군구명 종량제봉투종류 종량제봉투처리방식 종량제봉투용도 종량제봉투사용대상  1L가격  1.5L가격  2L가격  2.5L가격  \\\n",
       "0  경기도  안양시    규격봉투       매립용   생활쓰레기      사업장용     0       0     0       0   \n",
       "1  경기도  안양시    규격봉투       매립용   생활쓰레기        기타     0       0     0       0   \n",
       "2  경기도  안양시    규격봉투       소각용  음식물쓰레기       가정용     0      50     0      80   \n",
       "3  경기도  안양시    규격봉투       소각용  음식물쓰레기      사업장용     0      50     0      80   \n",
       "4  경기도  안양시    규격봉투       소각용  음식물쓰레기        기타     0      50     0      80   \n",
       "\n",
       "   ...  60L가격  75L가격  100L가격  120L가격  125L가격  관리부서명       관리부서전화번호  \\\n",
       "0  ...      0   2100       0       0       0  자원순환과  031-8045-5448   \n",
       "1  ...      0   2100       0       0       0  자원순환과  031-8045-5448   \n",
       "2  ...      0      0       0       0       0  자원순환과  031-8045-5448   \n",
       "3  ...      0      0       0       0       0  자원순환과  031-8045-5448   \n",
       "4  ...      0      0       0       0       0  자원순환과  031-8045-5448   \n",
       "\n",
       "      데이터기준일자   제공기관코드    제공기관명  \n",
       "0  2022-08-12  3830000  경기도 안양시  \n",
       "1  2022-08-12  3830000  경기도 안양시  \n",
       "2  2022-08-12  3830000  경기도 안양시  \n",
       "3  2022-08-12  3830000  경기도 안양시  \n",
       "4  2022-08-12  3830000  경기도 안양시  \n",
       "\n",
       "[5 rows x 26 columns]"
      ]
     },
     "execution_count": 115,
     "metadata": {},
     "output_type": "execute_result"
    }
   ],
   "source": [
    "df.head(5)"
   ]
  },
  {
   "cell_type": "code",
   "execution_count": 116,
   "metadata": {},
   "outputs": [],
   "source": [
    "result = df[(df['종량제봉투종류'] == '규격봉투') & (df['종량제봉투용도'] == '음식물쓰레기') & (df['2L가격'] != 0)]"
   ]
  },
  {
   "cell_type": "code",
   "execution_count": 117,
   "metadata": {},
   "outputs": [],
   "source": [
    "answer = result['2L가격'].mean()"
   ]
  },
  {
   "cell_type": "code",
   "execution_count": 121,
   "metadata": {},
   "outputs": [],
   "source": [
    "answer = round(answer,0)"
   ]
  },
  {
   "cell_type": "code",
   "execution_count": 122,
   "metadata": {},
   "outputs": [
    {
     "data": {
      "text/plain": [
       "121.0"
      ]
     },
     "execution_count": 122,
     "metadata": {},
     "output_type": "execute_result"
    }
   ],
   "source": [
    "answer"
   ]
  },
  {
   "cell_type": "code",
   "execution_count": 124,
   "metadata": {},
   "outputs": [],
   "source": [
    "df = pd.read_csv('/home/skanrns97/dataset/P220502.csv')"
   ]
  },
  {
   "cell_type": "code",
   "execution_count": 125,
   "metadata": {},
   "outputs": [
    {
     "data": {
      "text/html": [
       "<div>\n",
       "<style scoped>\n",
       "    .dataframe tbody tr th:only-of-type {\n",
       "        vertical-align: middle;\n",
       "    }\n",
       "\n",
       "    .dataframe tbody tr th {\n",
       "        vertical-align: top;\n",
       "    }\n",
       "\n",
       "    .dataframe thead th {\n",
       "        text-align: right;\n",
       "    }\n",
       "</style>\n",
       "<table border=\"1\" class=\"dataframe\">\n",
       "  <thead>\n",
       "    <tr style=\"text-align: right;\">\n",
       "      <th></th>\n",
       "      <th>Gender</th>\n",
       "      <th>Height</th>\n",
       "      <th>Weight</th>\n",
       "      <th>Index</th>\n",
       "    </tr>\n",
       "  </thead>\n",
       "  <tbody>\n",
       "    <tr>\n",
       "      <th>0</th>\n",
       "      <td>Male</td>\n",
       "      <td>174</td>\n",
       "      <td>96</td>\n",
       "      <td>4</td>\n",
       "    </tr>\n",
       "    <tr>\n",
       "      <th>1</th>\n",
       "      <td>Male</td>\n",
       "      <td>189</td>\n",
       "      <td>87</td>\n",
       "      <td>2</td>\n",
       "    </tr>\n",
       "    <tr>\n",
       "      <th>2</th>\n",
       "      <td>Female</td>\n",
       "      <td>185</td>\n",
       "      <td>110</td>\n",
       "      <td>4</td>\n",
       "    </tr>\n",
       "    <tr>\n",
       "      <th>3</th>\n",
       "      <td>Female</td>\n",
       "      <td>195</td>\n",
       "      <td>104</td>\n",
       "      <td>3</td>\n",
       "    </tr>\n",
       "    <tr>\n",
       "      <th>4</th>\n",
       "      <td>Male</td>\n",
       "      <td>149</td>\n",
       "      <td>61</td>\n",
       "      <td>3</td>\n",
       "    </tr>\n",
       "  </tbody>\n",
       "</table>\n",
       "</div>"
      ],
      "text/plain": [
       "   Gender  Height  Weight  Index\n",
       "0    Male     174      96      4\n",
       "1    Male     189      87      2\n",
       "2  Female     185     110      4\n",
       "3  Female     195     104      3\n",
       "4    Male     149      61      3"
      ]
     },
     "execution_count": 125,
     "metadata": {},
     "output_type": "execute_result"
    }
   ],
   "source": [
    "df.head(5)"
   ]
  },
  {
   "cell_type": "code",
   "execution_count": 126,
   "metadata": {},
   "outputs": [],
   "source": [
    "df['bmi'] = df['Weight'] / (df['Height'] / 100)**2"
   ]
  },
  {
   "cell_type": "code",
   "execution_count": 130,
   "metadata": {},
   "outputs": [],
   "source": [
    "normal = len(df[(df['bmi'] >= 18.5) & (df['bmi'] < 23)])\n",
    "danger = len(df[(df['bmi'] >= 23) & (df['bmi'] < 25)])"
   ]
  },
  {
   "cell_type": "code",
   "execution_count": 131,
   "metadata": {},
   "outputs": [
    {
     "data": {
      "text/plain": [
       "28"
      ]
     },
     "execution_count": 131,
     "metadata": {},
     "output_type": "execute_result"
    }
   ],
   "source": [
    "answer = abs(normal-danger)\n",
    "answer = round(answer,0)\n",
    "answer"
   ]
  },
  {
   "cell_type": "code",
   "execution_count": 141,
   "metadata": {},
   "outputs": [],
   "source": [
    "df = pd.read_csv('/home/skanrns97/dataset/P220503.csv', encoding = 'euc-kr')"
   ]
  },
  {
   "cell_type": "code",
   "execution_count": 142,
   "metadata": {},
   "outputs": [
    {
     "data": {
      "text/html": [
       "<div>\n",
       "<style scoped>\n",
       "    .dataframe tbody tr th:only-of-type {\n",
       "        vertical-align: middle;\n",
       "    }\n",
       "\n",
       "    .dataframe tbody tr th {\n",
       "        vertical-align: top;\n",
       "    }\n",
       "\n",
       "    .dataframe thead th {\n",
       "        text-align: right;\n",
       "    }\n",
       "</style>\n",
       "<table border=\"1\" class=\"dataframe\">\n",
       "  <thead>\n",
       "    <tr style=\"text-align: right;\">\n",
       "      <th></th>\n",
       "      <th>시도교육청</th>\n",
       "      <th>지역교육청</th>\n",
       "      <th>지역</th>\n",
       "      <th>정보공시 학교코드</th>\n",
       "      <th>학교명</th>\n",
       "      <th>학교급코드</th>\n",
       "      <th>설립구분</th>\n",
       "      <th>제외여부</th>\n",
       "      <th>제외사유</th>\n",
       "      <th>1학년 전입학생수</th>\n",
       "      <th>...</th>\n",
       "      <th>4학년 전체학생수</th>\n",
       "      <th>5학년 전입학생수</th>\n",
       "      <th>5학년 전출학생수</th>\n",
       "      <th>5학년 전체학생수</th>\n",
       "      <th>6학년 전입학생수</th>\n",
       "      <th>6학년 전출학생수</th>\n",
       "      <th>6학년 전체 학생수</th>\n",
       "      <th>전입학생수(계)</th>\n",
       "      <th>전출학생수(계)</th>\n",
       "      <th>전체학생수(계)</th>\n",
       "    </tr>\n",
       "  </thead>\n",
       "  <tbody>\n",
       "    <tr>\n",
       "      <th>0</th>\n",
       "      <td>서울특별시교육청</td>\n",
       "      <td>교육부</td>\n",
       "      <td>서울특별시 서초구</td>\n",
       "      <td>S000003511</td>\n",
       "      <td>서울교육대학교부설초등학교</td>\n",
       "      <td>2</td>\n",
       "      <td>국립</td>\n",
       "      <td>N</td>\n",
       "      <td>NaN</td>\n",
       "      <td>1</td>\n",
       "      <td>...</td>\n",
       "      <td>103</td>\n",
       "      <td>0</td>\n",
       "      <td>1</td>\n",
       "      <td>112</td>\n",
       "      <td>0</td>\n",
       "      <td>1</td>\n",
       "      <td>105</td>\n",
       "      <td>2</td>\n",
       "      <td>5</td>\n",
       "      <td>616</td>\n",
       "    </tr>\n",
       "    <tr>\n",
       "      <th>1</th>\n",
       "      <td>서울특별시교육청</td>\n",
       "      <td>교육부</td>\n",
       "      <td>서울특별시 종로구</td>\n",
       "      <td>S000003563</td>\n",
       "      <td>서울대학교사범대학부설초등학교</td>\n",
       "      <td>2</td>\n",
       "      <td>국립</td>\n",
       "      <td>N</td>\n",
       "      <td>NaN</td>\n",
       "      <td>1</td>\n",
       "      <td>...</td>\n",
       "      <td>105</td>\n",
       "      <td>3</td>\n",
       "      <td>5</td>\n",
       "      <td>109</td>\n",
       "      <td>1</td>\n",
       "      <td>0</td>\n",
       "      <td>110</td>\n",
       "      <td>21</td>\n",
       "      <td>18</td>\n",
       "      <td>632</td>\n",
       "    </tr>\n",
       "    <tr>\n",
       "      <th>2</th>\n",
       "      <td>서울특별시교육청</td>\n",
       "      <td>서울특별시강남서초교육지원청</td>\n",
       "      <td>서울특별시 강남구</td>\n",
       "      <td>S010000738</td>\n",
       "      <td>서울개일초등학교</td>\n",
       "      <td>2</td>\n",
       "      <td>공립</td>\n",
       "      <td>N</td>\n",
       "      <td>NaN</td>\n",
       "      <td>18</td>\n",
       "      <td>...</td>\n",
       "      <td>123</td>\n",
       "      <td>46</td>\n",
       "      <td>4</td>\n",
       "      <td>136</td>\n",
       "      <td>41</td>\n",
       "      <td>6</td>\n",
       "      <td>170</td>\n",
       "      <td>232</td>\n",
       "      <td>36</td>\n",
       "      <td>837</td>\n",
       "    </tr>\n",
       "    <tr>\n",
       "      <th>3</th>\n",
       "      <td>서울특별시교육청</td>\n",
       "      <td>서울특별시강남서초교육지원청</td>\n",
       "      <td>서울특별시 강남구</td>\n",
       "      <td>S010000741</td>\n",
       "      <td>서울구룡초등학교</td>\n",
       "      <td>2</td>\n",
       "      <td>공립</td>\n",
       "      <td>N</td>\n",
       "      <td>NaN</td>\n",
       "      <td>5</td>\n",
       "      <td>...</td>\n",
       "      <td>74</td>\n",
       "      <td>9</td>\n",
       "      <td>3</td>\n",
       "      <td>85</td>\n",
       "      <td>7</td>\n",
       "      <td>2</td>\n",
       "      <td>86</td>\n",
       "      <td>49</td>\n",
       "      <td>14</td>\n",
       "      <td>492</td>\n",
       "    </tr>\n",
       "    <tr>\n",
       "      <th>4</th>\n",
       "      <td>서울특별시교육청</td>\n",
       "      <td>서울특별시강남서초교육지원청</td>\n",
       "      <td>서울특별시 강남구</td>\n",
       "      <td>S010000742</td>\n",
       "      <td>서울논현초등학교</td>\n",
       "      <td>2</td>\n",
       "      <td>공립</td>\n",
       "      <td>N</td>\n",
       "      <td>NaN</td>\n",
       "      <td>1</td>\n",
       "      <td>...</td>\n",
       "      <td>54</td>\n",
       "      <td>4</td>\n",
       "      <td>4</td>\n",
       "      <td>65</td>\n",
       "      <td>4</td>\n",
       "      <td>1</td>\n",
       "      <td>52</td>\n",
       "      <td>14</td>\n",
       "      <td>26</td>\n",
       "      <td>339</td>\n",
       "    </tr>\n",
       "  </tbody>\n",
       "</table>\n",
       "<p>5 rows × 30 columns</p>\n",
       "</div>"
      ],
      "text/plain": [
       "      시도교육청           지역교육청         지역   정보공시 학교코드              학교명  학교급코드  \\\n",
       "0  서울특별시교육청             교육부  서울특별시 서초구  S000003511    서울교육대학교부설초등학교      2   \n",
       "1  서울특별시교육청             교육부  서울특별시 종로구  S000003563  서울대학교사범대학부설초등학교      2   \n",
       "2  서울특별시교육청  서울특별시강남서초교육지원청  서울특별시 강남구  S010000738         서울개일초등학교      2   \n",
       "3  서울특별시교육청  서울특별시강남서초교육지원청  서울특별시 강남구  S010000741         서울구룡초등학교      2   \n",
       "4  서울특별시교육청  서울특별시강남서초교육지원청  서울특별시 강남구  S010000742         서울논현초등학교      2   \n",
       "\n",
       "  설립구분 제외여부  제외사유  1학년 전입학생수  ...  4학년 전체학생수  5학년 전입학생수  5학년 전출학생수  5학년 전체학생수  \\\n",
       "0   국립    N   NaN          1  ...        103          0          1        112   \n",
       "1   국립    N   NaN          1  ...        105          3          5        109   \n",
       "2   공립    N   NaN         18  ...        123         46          4        136   \n",
       "3   공립    N   NaN          5  ...         74          9          3         85   \n",
       "4   공립    N   NaN          1  ...         54          4          4         65   \n",
       "\n",
       "   6학년 전입학생수  6학년 전출학생수  6학년 전체 학생수  전입학생수(계)  전출학생수(계)  전체학생수(계)  \n",
       "0          0          1         105         2         5       616  \n",
       "1          1          0         110        21        18       632  \n",
       "2         41          6         170       232        36       837  \n",
       "3          7          2          86        49        14       492  \n",
       "4          4          1          52        14        26       339  \n",
       "\n",
       "[5 rows x 30 columns]"
      ]
     },
     "execution_count": 142,
     "metadata": {},
     "output_type": "execute_result"
    }
   ],
   "source": [
    "df.head(5)"
   ]
  },
  {
   "cell_type": "code",
   "execution_count": 151,
   "metadata": {},
   "outputs": [],
   "source": [
    "df['순전입학생수'] = df['전입학생수(계)'] - df['전출학생수(계)']\n",
    "df = df.sort_values('순전입학생수', ascending = False)"
   ]
  },
  {
   "cell_type": "code",
   "execution_count": 152,
   "metadata": {},
   "outputs": [
    {
     "data": {
      "text/html": [
       "<div>\n",
       "<style scoped>\n",
       "    .dataframe tbody tr th:only-of-type {\n",
       "        vertical-align: middle;\n",
       "    }\n",
       "\n",
       "    .dataframe tbody tr th {\n",
       "        vertical-align: top;\n",
       "    }\n",
       "\n",
       "    .dataframe thead th {\n",
       "        text-align: right;\n",
       "    }\n",
       "</style>\n",
       "<table border=\"1\" class=\"dataframe\">\n",
       "  <thead>\n",
       "    <tr style=\"text-align: right;\">\n",
       "      <th></th>\n",
       "      <th>시도교육청</th>\n",
       "      <th>지역교육청</th>\n",
       "      <th>지역</th>\n",
       "      <th>정보공시 학교코드</th>\n",
       "      <th>학교명</th>\n",
       "      <th>학교급코드</th>\n",
       "      <th>설립구분</th>\n",
       "      <th>제외여부</th>\n",
       "      <th>제외사유</th>\n",
       "      <th>1학년 전입학생수</th>\n",
       "      <th>...</th>\n",
       "      <th>5학년 전입학생수</th>\n",
       "      <th>5학년 전출학생수</th>\n",
       "      <th>5학년 전체학생수</th>\n",
       "      <th>6학년 전입학생수</th>\n",
       "      <th>6학년 전출학생수</th>\n",
       "      <th>6학년 전체 학생수</th>\n",
       "      <th>전입학생수(계)</th>\n",
       "      <th>전출학생수(계)</th>\n",
       "      <th>전체학생수(계)</th>\n",
       "      <th>순전입학생수</th>\n",
       "    </tr>\n",
       "  </thead>\n",
       "  <tbody>\n",
       "    <tr>\n",
       "      <th>3563</th>\n",
       "      <td>강원도교육청</td>\n",
       "      <td>강원도원주교육지원청</td>\n",
       "      <td>강원도 원주시</td>\n",
       "      <td>S100003975</td>\n",
       "      <td>섬강초등학교</td>\n",
       "      <td>2</td>\n",
       "      <td>공립</td>\n",
       "      <td>N</td>\n",
       "      <td>NaN</td>\n",
       "      <td>83</td>\n",
       "      <td>...</td>\n",
       "      <td>204</td>\n",
       "      <td>3</td>\n",
       "      <td>123</td>\n",
       "      <td>152</td>\n",
       "      <td>2</td>\n",
       "      <td>110</td>\n",
       "      <td>1187</td>\n",
       "      <td>24</td>\n",
       "      <td>956</td>\n",
       "      <td>1163</td>\n",
       "    </tr>\n",
       "    <tr>\n",
       "      <th>1394</th>\n",
       "      <td>인천광역시교육청</td>\n",
       "      <td>인천광역시남부교육지원청</td>\n",
       "      <td>인천광역시 중구</td>\n",
       "      <td>S040002283</td>\n",
       "      <td>인천중산초등학교</td>\n",
       "      <td>2</td>\n",
       "      <td>공립</td>\n",
       "      <td>N</td>\n",
       "      <td>NaN</td>\n",
       "      <td>44</td>\n",
       "      <td>...</td>\n",
       "      <td>216</td>\n",
       "      <td>3</td>\n",
       "      <td>191</td>\n",
       "      <td>140</td>\n",
       "      <td>3</td>\n",
       "      <td>118</td>\n",
       "      <td>1119</td>\n",
       "      <td>18</td>\n",
       "      <td>1170</td>\n",
       "      <td>1101</td>\n",
       "    </tr>\n",
       "    <tr>\n",
       "      <th>3162</th>\n",
       "      <td>경기도교육청</td>\n",
       "      <td>경기도구리남양주교육지원청</td>\n",
       "      <td>경기도 남양주시</td>\n",
       "      <td>S090007275</td>\n",
       "      <td>다산한강초등학교</td>\n",
       "      <td>2</td>\n",
       "      <td>공립</td>\n",
       "      <td>N</td>\n",
       "      <td>NaN</td>\n",
       "      <td>240</td>\n",
       "      <td>...</td>\n",
       "      <td>139</td>\n",
       "      <td>0</td>\n",
       "      <td>35</td>\n",
       "      <td>85</td>\n",
       "      <td>1</td>\n",
       "      <td>38</td>\n",
       "      <td>1039</td>\n",
       "      <td>12</td>\n",
       "      <td>303</td>\n",
       "      <td>1027</td>\n",
       "    </tr>\n",
       "    <tr>\n",
       "      <th>3154</th>\n",
       "      <td>경기도교육청</td>\n",
       "      <td>경기도평택교육지원청</td>\n",
       "      <td>경기도 평택시</td>\n",
       "      <td>S090007240</td>\n",
       "      <td>용죽초등학교</td>\n",
       "      <td>2</td>\n",
       "      <td>공립</td>\n",
       "      <td>N</td>\n",
       "      <td>NaN</td>\n",
       "      <td>34</td>\n",
       "      <td>...</td>\n",
       "      <td>177</td>\n",
       "      <td>1</td>\n",
       "      <td>146</td>\n",
       "      <td>119</td>\n",
       "      <td>3</td>\n",
       "      <td>98</td>\n",
       "      <td>960</td>\n",
       "      <td>18</td>\n",
       "      <td>1090</td>\n",
       "      <td>942</td>\n",
       "    </tr>\n",
       "    <tr>\n",
       "      <th>6164</th>\n",
       "      <td>경상남도교육청</td>\n",
       "      <td>김해교육지원청</td>\n",
       "      <td>경상남도 김해시</td>\n",
       "      <td>S160003928</td>\n",
       "      <td>김해모산초등학교</td>\n",
       "      <td>2</td>\n",
       "      <td>공립</td>\n",
       "      <td>N</td>\n",
       "      <td>NaN</td>\n",
       "      <td>70</td>\n",
       "      <td>...</td>\n",
       "      <td>166</td>\n",
       "      <td>3</td>\n",
       "      <td>119</td>\n",
       "      <td>93</td>\n",
       "      <td>3</td>\n",
       "      <td>62</td>\n",
       "      <td>821</td>\n",
       "      <td>15</td>\n",
       "      <td>628</td>\n",
       "      <td>806</td>\n",
       "    </tr>\n",
       "  </tbody>\n",
       "</table>\n",
       "<p>5 rows × 31 columns</p>\n",
       "</div>"
      ],
      "text/plain": [
       "         시도교육청          지역교육청        지역   정보공시 학교코드       학교명  학교급코드 설립구분  \\\n",
       "3563    강원도교육청     강원도원주교육지원청   강원도 원주시  S100003975    섬강초등학교      2   공립   \n",
       "1394  인천광역시교육청   인천광역시남부교육지원청  인천광역시 중구  S040002283  인천중산초등학교      2   공립   \n",
       "3162    경기도교육청  경기도구리남양주교육지원청  경기도 남양주시  S090007275  다산한강초등학교      2   공립   \n",
       "3154    경기도교육청     경기도평택교육지원청   경기도 평택시  S090007240    용죽초등학교      2   공립   \n",
       "6164   경상남도교육청        김해교육지원청  경상남도 김해시  S160003928  김해모산초등학교      2   공립   \n",
       "\n",
       "     제외여부  제외사유  1학년 전입학생수  ...  5학년 전입학생수  5학년 전출학생수  5학년 전체학생수  6학년 전입학생수  \\\n",
       "3563    N   NaN         83  ...        204          3        123        152   \n",
       "1394    N   NaN         44  ...        216          3        191        140   \n",
       "3162    N   NaN        240  ...        139          0         35         85   \n",
       "3154    N   NaN         34  ...        177          1        146        119   \n",
       "6164    N   NaN         70  ...        166          3        119         93   \n",
       "\n",
       "      6학년 전출학생수  6학년 전체 학생수  전입학생수(계)  전출학생수(계)  전체학생수(계)  순전입학생수  \n",
       "3563          2         110      1187        24       956    1163  \n",
       "1394          3         118      1119        18      1170    1101  \n",
       "3162          1          38      1039        12       303    1027  \n",
       "3154          3          98       960        18      1090     942  \n",
       "6164          3          62       821        15       628     806  \n",
       "\n",
       "[5 rows x 31 columns]"
      ]
     },
     "execution_count": 152,
     "metadata": {},
     "output_type": "execute_result"
    }
   ],
   "source": [
    "df.head(5)"
   ]
  },
  {
   "cell_type": "code",
   "execution_count": 153,
   "metadata": {},
   "outputs": [
    {
     "data": {
      "text/plain": [
       "956"
      ]
     },
     "execution_count": 153,
     "metadata": {},
     "output_type": "execute_result"
    }
   ],
   "source": [
    "df['전체학생수(계)'].iloc[0]"
   ]
  },
  {
   "cell_type": "code",
   "execution_count": 161,
   "metadata": {},
   "outputs": [],
   "source": [
    "df = pd.read_csv('/home/skanrns97/dataset/P230601.csv')"
   ]
  },
  {
   "cell_type": "code",
   "execution_count": 162,
   "metadata": {},
   "outputs": [
    {
     "data": {
      "text/html": [
       "<div>\n",
       "<style scoped>\n",
       "    .dataframe tbody tr th:only-of-type {\n",
       "        vertical-align: middle;\n",
       "    }\n",
       "\n",
       "    .dataframe tbody tr th {\n",
       "        vertical-align: top;\n",
       "    }\n",
       "\n",
       "    .dataframe thead th {\n",
       "        text-align: right;\n",
       "    }\n",
       "</style>\n",
       "<table border=\"1\" class=\"dataframe\">\n",
       "  <thead>\n",
       "    <tr style=\"text-align: right;\">\n",
       "      <th></th>\n",
       "      <th>신고일시</th>\n",
       "      <th>출동일시</th>\n",
       "      <th>출동소방서</th>\n",
       "    </tr>\n",
       "  </thead>\n",
       "  <tbody>\n",
       "    <tr>\n",
       "      <th>0</th>\n",
       "      <td>2018-01-02 11:45</td>\n",
       "      <td>2018-01-02 11:50</td>\n",
       "      <td>양평소방서</td>\n",
       "    </tr>\n",
       "    <tr>\n",
       "      <th>1</th>\n",
       "      <td>2018-01-04 01:56</td>\n",
       "      <td>2018-01-04 02:00</td>\n",
       "      <td>수원남부소방서</td>\n",
       "    </tr>\n",
       "    <tr>\n",
       "      <th>2</th>\n",
       "      <td>2018-01-05 16:54</td>\n",
       "      <td>2018-01-05 16:54</td>\n",
       "      <td>김포소방서</td>\n",
       "    </tr>\n",
       "    <tr>\n",
       "      <th>3</th>\n",
       "      <td>2018-01-07 00:56</td>\n",
       "      <td>2018-01-07 01:01</td>\n",
       "      <td>포천소방서</td>\n",
       "    </tr>\n",
       "    <tr>\n",
       "      <th>4</th>\n",
       "      <td>2018-01-05 16:54</td>\n",
       "      <td>2018-01-05 16:55</td>\n",
       "      <td>고양소방서</td>\n",
       "    </tr>\n",
       "  </tbody>\n",
       "</table>\n",
       "</div>"
      ],
      "text/plain": [
       "               신고일시              출동일시    출동소방서\n",
       "0  2018-01-02 11:45  2018-01-02 11:50    양평소방서\n",
       "1  2018-01-04 01:56  2018-01-04 02:00  수원남부소방서\n",
       "2  2018-01-05 16:54  2018-01-05 16:54    김포소방서\n",
       "3  2018-01-07 00:56  2018-01-07 01:01    포천소방서\n",
       "4  2018-01-05 16:54  2018-01-05 16:55    고양소방서"
      ]
     },
     "execution_count": 162,
     "metadata": {},
     "output_type": "execute_result"
    }
   ],
   "source": [
    "df.head(5)"
   ]
  },
  {
   "cell_type": "code",
   "execution_count": 167,
   "metadata": {},
   "outputs": [],
   "source": [
    "df['신고일시'] = pd.to_datetime(df['신고일시'])\n",
    "df['출동일시'] = pd.to_datetime(df['출동일시'])"
   ]
  },
  {
   "cell_type": "code",
   "execution_count": 173,
   "metadata": {},
   "outputs": [],
   "source": [
    "df['minus'] = (df['출동일시'] - df['신고일시']).dt.total_seconds()"
   ]
  },
  {
   "cell_type": "code",
   "execution_count": 177,
   "metadata": {},
   "outputs": [],
   "source": [
    "df = df.groupby([df['출동소방서'], df['신고일시'].dt.year, df['신고일시'].dt.month]).mean('minus')"
   ]
  },
  {
   "cell_type": "code",
   "execution_count": 180,
   "metadata": {},
   "outputs": [],
   "source": [
    "df = df.sort_values('minus', ascending = False)"
   ]
  },
  {
   "cell_type": "code",
   "execution_count": 182,
   "metadata": {},
   "outputs": [],
   "source": [
    "result = df.iloc[0]"
   ]
  },
  {
   "cell_type": "code",
   "execution_count": 184,
   "metadata": {},
   "outputs": [],
   "source": [
    "answer = float(result['minus'] / 60)\n",
    "answer = round(answer)"
   ]
  },
  {
   "cell_type": "code",
   "execution_count": 185,
   "metadata": {},
   "outputs": [
    {
     "data": {
      "text/plain": [
       "64"
      ]
     },
     "execution_count": 185,
     "metadata": {},
     "output_type": "execute_result"
    }
   ],
   "source": [
    "answer"
   ]
  },
  {
   "cell_type": "code",
   "execution_count": 186,
   "metadata": {},
   "outputs": [],
   "source": [
    "df = pd.read_csv('/home/skanrns97/dataset/P230602.csv')"
   ]
  },
  {
   "cell_type": "code",
   "execution_count": 188,
   "metadata": {},
   "outputs": [],
   "source": [
    "df['total'] = df['student_1'] + df['student_2'] + df['student_3'] + df['student_4'] + df['student_5'] + df['student_6']\n",
    "df['rate'] = df['total'] / df['teacher']"
   ]
  },
  {
   "cell_type": "code",
   "execution_count": 189,
   "metadata": {},
   "outputs": [
    {
     "data": {
      "text/html": [
       "<div>\n",
       "<style scoped>\n",
       "    .dataframe tbody tr th:only-of-type {\n",
       "        vertical-align: middle;\n",
       "    }\n",
       "\n",
       "    .dataframe tbody tr th {\n",
       "        vertical-align: top;\n",
       "    }\n",
       "\n",
       "    .dataframe thead th {\n",
       "        text-align: right;\n",
       "    }\n",
       "</style>\n",
       "<table border=\"1\" class=\"dataframe\">\n",
       "  <thead>\n",
       "    <tr style=\"text-align: right;\">\n",
       "      <th></th>\n",
       "      <th>school_name</th>\n",
       "      <th>student_1</th>\n",
       "      <th>student_2</th>\n",
       "      <th>student_3</th>\n",
       "      <th>student_4</th>\n",
       "      <th>student_5</th>\n",
       "      <th>student_6</th>\n",
       "      <th>teacher</th>\n",
       "      <th>total</th>\n",
       "      <th>rate</th>\n",
       "    </tr>\n",
       "  </thead>\n",
       "  <tbody>\n",
       "    <tr>\n",
       "      <th>1044</th>\n",
       "      <td>대구삼육초등학교</td>\n",
       "      <td>36</td>\n",
       "      <td>39</td>\n",
       "      <td>40</td>\n",
       "      <td>39</td>\n",
       "      <td>37</td>\n",
       "      <td>28</td>\n",
       "      <td>6</td>\n",
       "      <td>219</td>\n",
       "      <td>36.500000</td>\n",
       "    </tr>\n",
       "    <tr>\n",
       "      <th>3387</th>\n",
       "      <td>원주삼육초등학교</td>\n",
       "      <td>84</td>\n",
       "      <td>90</td>\n",
       "      <td>90</td>\n",
       "      <td>90</td>\n",
       "      <td>96</td>\n",
       "      <td>96</td>\n",
       "      <td>16</td>\n",
       "      <td>546</td>\n",
       "      <td>34.125000</td>\n",
       "    </tr>\n",
       "    <tr>\n",
       "      <th>1464</th>\n",
       "      <td>광주삼육초등학교</td>\n",
       "      <td>90</td>\n",
       "      <td>96</td>\n",
       "      <td>96</td>\n",
       "      <td>96</td>\n",
       "      <td>102</td>\n",
       "      <td>102</td>\n",
       "      <td>18</td>\n",
       "      <td>582</td>\n",
       "      <td>32.333333</td>\n",
       "    </tr>\n",
       "    <tr>\n",
       "      <th>360</th>\n",
       "      <td>태강삼육초등학교</td>\n",
       "      <td>129</td>\n",
       "      <td>128</td>\n",
       "      <td>128</td>\n",
       "      <td>128</td>\n",
       "      <td>128</td>\n",
       "      <td>128</td>\n",
       "      <td>24</td>\n",
       "      <td>769</td>\n",
       "      <td>32.041667</td>\n",
       "    </tr>\n",
       "    <tr>\n",
       "      <th>687</th>\n",
       "      <td>동성초등학교</td>\n",
       "      <td>128</td>\n",
       "      <td>128</td>\n",
       "      <td>128</td>\n",
       "      <td>128</td>\n",
       "      <td>127</td>\n",
       "      <td>89</td>\n",
       "      <td>23</td>\n",
       "      <td>728</td>\n",
       "      <td>31.652174</td>\n",
       "    </tr>\n",
       "  </tbody>\n",
       "</table>\n",
       "</div>"
      ],
      "text/plain": [
       "     school_name  student_1  student_2  student_3  student_4  student_5  \\\n",
       "1044    대구삼육초등학교         36         39         40         39         37   \n",
       "3387    원주삼육초등학교         84         90         90         90         96   \n",
       "1464    광주삼육초등학교         90         96         96         96        102   \n",
       "360     태강삼육초등학교        129        128        128        128        128   \n",
       "687       동성초등학교        128        128        128        128        127   \n",
       "\n",
       "      student_6  teacher  total       rate  \n",
       "1044         28        6    219  36.500000  \n",
       "3387         96       16    546  34.125000  \n",
       "1464        102       18    582  32.333333  \n",
       "360         128       24    769  32.041667  \n",
       "687          89       23    728  31.652174  "
      ]
     },
     "execution_count": 189,
     "metadata": {},
     "output_type": "execute_result"
    }
   ],
   "source": [
    "df = df.sort_values(by = 'rate', ascending = False)\n",
    "df.head(5)"
   ]
  },
  {
   "cell_type": "code",
   "execution_count": 190,
   "metadata": {},
   "outputs": [
    {
     "data": {
      "text/plain": [
       "6"
      ]
     },
     "execution_count": 190,
     "metadata": {},
     "output_type": "execute_result"
    }
   ],
   "source": [
    "answer = int(df['teacher'].iloc[0])\n",
    "answer"
   ]
  },
  {
   "cell_type": "code",
   "execution_count": 243,
   "metadata": {},
   "outputs": [],
   "source": [
    "df = pd.read_csv('/home/skanrns97/dataset/P230603.csv')"
   ]
  },
  {
   "cell_type": "code",
   "execution_count": 244,
   "metadata": {},
   "outputs": [
    {
     "data": {
      "text/html": [
       "<div>\n",
       "<style scoped>\n",
       "    .dataframe tbody tr th:only-of-type {\n",
       "        vertical-align: middle;\n",
       "    }\n",
       "\n",
       "    .dataframe tbody tr th {\n",
       "        vertical-align: top;\n",
       "    }\n",
       "\n",
       "    .dataframe thead th {\n",
       "        text-align: right;\n",
       "    }\n",
       "</style>\n",
       "<table border=\"1\" class=\"dataframe\">\n",
       "  <thead>\n",
       "    <tr style=\"text-align: right;\">\n",
       "      <th></th>\n",
       "      <th>년월</th>\n",
       "      <th>강력범</th>\n",
       "      <th>절도범</th>\n",
       "      <th>폭력범</th>\n",
       "      <th>지능범</th>\n",
       "      <th>풍속범</th>\n",
       "      <th>기타형사범</th>\n",
       "    </tr>\n",
       "  </thead>\n",
       "  <tbody>\n",
       "    <tr>\n",
       "      <th>0</th>\n",
       "      <td>2007-01</td>\n",
       "      <td>291</td>\n",
       "      <td>2608</td>\n",
       "      <td>6494</td>\n",
       "      <td>5283</td>\n",
       "      <td>242</td>\n",
       "      <td>1126</td>\n",
       "    </tr>\n",
       "    <tr>\n",
       "      <th>1</th>\n",
       "      <td>2007-02</td>\n",
       "      <td>252</td>\n",
       "      <td>2403</td>\n",
       "      <td>4613</td>\n",
       "      <td>4270</td>\n",
       "      <td>158</td>\n",
       "      <td>880</td>\n",
       "    </tr>\n",
       "    <tr>\n",
       "      <th>2</th>\n",
       "      <td>2007-03</td>\n",
       "      <td>292</td>\n",
       "      <td>2273</td>\n",
       "      <td>6242</td>\n",
       "      <td>5110</td>\n",
       "      <td>196</td>\n",
       "      <td>1119</td>\n",
       "    </tr>\n",
       "    <tr>\n",
       "      <th>3</th>\n",
       "      <td>2007-04</td>\n",
       "      <td>306</td>\n",
       "      <td>2794</td>\n",
       "      <td>6813</td>\n",
       "      <td>5492</td>\n",
       "      <td>250</td>\n",
       "      <td>1311</td>\n",
       "    </tr>\n",
       "    <tr>\n",
       "      <th>4</th>\n",
       "      <td>2007-05</td>\n",
       "      <td>298</td>\n",
       "      <td>3469</td>\n",
       "      <td>7221</td>\n",
       "      <td>5432</td>\n",
       "      <td>192</td>\n",
       "      <td>1412</td>\n",
       "    </tr>\n",
       "  </tbody>\n",
       "</table>\n",
       "</div>"
      ],
      "text/plain": [
       "        년월  강력범   절도범   폭력범   지능범  풍속범  기타형사범\n",
       "0  2007-01  291  2608  6494  5283  242   1126\n",
       "1  2007-02  252  2403  4613  4270  158    880\n",
       "2  2007-03  292  2273  6242  5110  196   1119\n",
       "3  2007-04  306  2794  6813  5492  250   1311\n",
       "4  2007-05  298  3469  7221  5432  192   1412"
      ]
     },
     "execution_count": 244,
     "metadata": {},
     "output_type": "execute_result"
    }
   ],
   "source": [
    "df.head(5)"
   ]
  },
  {
   "cell_type": "code",
   "execution_count": 245,
   "metadata": {},
   "outputs": [
    {
     "name": "stdout",
     "output_type": "stream",
     "text": [
      "<class 'pandas.core.frame.DataFrame'>\n",
      "RangeIndex: 84 entries, 0 to 83\n",
      "Data columns (total 7 columns):\n",
      " #   Column  Non-Null Count  Dtype \n",
      "---  ------  --------------  ----- \n",
      " 0   년월      84 non-null     object\n",
      " 1   강력범     84 non-null     int64 \n",
      " 2   절도범     84 non-null     int64 \n",
      " 3   폭력범     84 non-null     int64 \n",
      " 4   지능범     84 non-null     int64 \n",
      " 5   풍속범     84 non-null     int64 \n",
      " 6   기타형사범   84 non-null     int64 \n",
      "dtypes: int64(6), object(1)\n",
      "memory usage: 4.7+ KB\n"
     ]
    }
   ],
   "source": [
    "df.info()"
   ]
  },
  {
   "cell_type": "code",
   "execution_count": 246,
   "metadata": {},
   "outputs": [],
   "source": [
    "df['year'] = df['년월'].str[:4]\n",
    "df['total'] = df['강력범'] + df['절도범'] + df['폭력범'] + df['지능범'] + df['풍속범'] + df['기타형사범']"
   ]
  },
  {
   "cell_type": "code",
   "execution_count": 247,
   "metadata": {},
   "outputs": [],
   "source": [
    "result = df.groupby('year', as_index=False).sum('total').sort_values('total', ascending = False)"
   ]
  },
  {
   "cell_type": "code",
   "execution_count": 253,
   "metadata": {},
   "outputs": [],
   "source": [
    "answer_df = df[df['year'] == result['year'].iloc[0]]"
   ]
  },
  {
   "cell_type": "code",
   "execution_count": 254,
   "metadata": {},
   "outputs": [
    {
     "data": {
      "text/html": [
       "<div>\n",
       "<style scoped>\n",
       "    .dataframe tbody tr th:only-of-type {\n",
       "        vertical-align: middle;\n",
       "    }\n",
       "\n",
       "    .dataframe tbody tr th {\n",
       "        vertical-align: top;\n",
       "    }\n",
       "\n",
       "    .dataframe thead th {\n",
       "        text-align: right;\n",
       "    }\n",
       "</style>\n",
       "<table border=\"1\" class=\"dataframe\">\n",
       "  <thead>\n",
       "    <tr style=\"text-align: right;\">\n",
       "      <th></th>\n",
       "      <th>년월</th>\n",
       "      <th>강력범</th>\n",
       "      <th>절도범</th>\n",
       "      <th>폭력범</th>\n",
       "      <th>지능범</th>\n",
       "      <th>풍속범</th>\n",
       "      <th>기타형사범</th>\n",
       "      <th>year</th>\n",
       "      <th>total</th>\n",
       "    </tr>\n",
       "  </thead>\n",
       "  <tbody>\n",
       "    <tr>\n",
       "      <th>72</th>\n",
       "      <td>2013-01</td>\n",
       "      <td>396</td>\n",
       "      <td>4858</td>\n",
       "      <td>4990</td>\n",
       "      <td>6336</td>\n",
       "      <td>126</td>\n",
       "      <td>1631</td>\n",
       "      <td>2013</td>\n",
       "      <td>18337</td>\n",
       "    </tr>\n",
       "    <tr>\n",
       "      <th>73</th>\n",
       "      <td>2013-02</td>\n",
       "      <td>346</td>\n",
       "      <td>4382</td>\n",
       "      <td>4192</td>\n",
       "      <td>4900</td>\n",
       "      <td>115</td>\n",
       "      <td>1259</td>\n",
       "      <td>2013</td>\n",
       "      <td>15194</td>\n",
       "    </tr>\n",
       "    <tr>\n",
       "      <th>74</th>\n",
       "      <td>2013-03</td>\n",
       "      <td>444</td>\n",
       "      <td>4266</td>\n",
       "      <td>4936</td>\n",
       "      <td>5829</td>\n",
       "      <td>129</td>\n",
       "      <td>1495</td>\n",
       "      <td>2013</td>\n",
       "      <td>17099</td>\n",
       "    </tr>\n",
       "    <tr>\n",
       "      <th>75</th>\n",
       "      <td>2013-04</td>\n",
       "      <td>546</td>\n",
       "      <td>4915</td>\n",
       "      <td>5363</td>\n",
       "      <td>6499</td>\n",
       "      <td>125</td>\n",
       "      <td>1748</td>\n",
       "      <td>2013</td>\n",
       "      <td>19196</td>\n",
       "    </tr>\n",
       "    <tr>\n",
       "      <th>76</th>\n",
       "      <td>2013-05</td>\n",
       "      <td>558</td>\n",
       "      <td>5203</td>\n",
       "      <td>5834</td>\n",
       "      <td>7029</td>\n",
       "      <td>133</td>\n",
       "      <td>1662</td>\n",
       "      <td>2013</td>\n",
       "      <td>20419</td>\n",
       "    </tr>\n",
       "    <tr>\n",
       "      <th>77</th>\n",
       "      <td>2013-06</td>\n",
       "      <td>619</td>\n",
       "      <td>5871</td>\n",
       "      <td>5740</td>\n",
       "      <td>6133</td>\n",
       "      <td>142</td>\n",
       "      <td>1640</td>\n",
       "      <td>2013</td>\n",
       "      <td>20145</td>\n",
       "    </tr>\n",
       "    <tr>\n",
       "      <th>78</th>\n",
       "      <td>2013-07</td>\n",
       "      <td>649</td>\n",
       "      <td>5830</td>\n",
       "      <td>6366</td>\n",
       "      <td>7115</td>\n",
       "      <td>146</td>\n",
       "      <td>1930</td>\n",
       "      <td>2013</td>\n",
       "      <td>22036</td>\n",
       "    </tr>\n",
       "    <tr>\n",
       "      <th>79</th>\n",
       "      <td>2013-08</td>\n",
       "      <td>615</td>\n",
       "      <td>5650</td>\n",
       "      <td>5796</td>\n",
       "      <td>6345</td>\n",
       "      <td>120</td>\n",
       "      <td>1764</td>\n",
       "      <td>2013</td>\n",
       "      <td>20290</td>\n",
       "    </tr>\n",
       "    <tr>\n",
       "      <th>80</th>\n",
       "      <td>2013-09</td>\n",
       "      <td>547</td>\n",
       "      <td>5602</td>\n",
       "      <td>5603</td>\n",
       "      <td>6126</td>\n",
       "      <td>139</td>\n",
       "      <td>1693</td>\n",
       "      <td>2013</td>\n",
       "      <td>19710</td>\n",
       "    </tr>\n",
       "    <tr>\n",
       "      <th>81</th>\n",
       "      <td>2013-01</td>\n",
       "      <td>669</td>\n",
       "      <td>5690</td>\n",
       "      <td>6016</td>\n",
       "      <td>6762</td>\n",
       "      <td>166</td>\n",
       "      <td>2099</td>\n",
       "      <td>2013</td>\n",
       "      <td>21402</td>\n",
       "    </tr>\n",
       "    <tr>\n",
       "      <th>82</th>\n",
       "      <td>2013-11</td>\n",
       "      <td>415</td>\n",
       "      <td>4702</td>\n",
       "      <td>5367</td>\n",
       "      <td>6962</td>\n",
       "      <td>115</td>\n",
       "      <td>1988</td>\n",
       "      <td>2013</td>\n",
       "      <td>19549</td>\n",
       "    </tr>\n",
       "    <tr>\n",
       "      <th>83</th>\n",
       "      <td>2013-12</td>\n",
       "      <td>472</td>\n",
       "      <td>4616</td>\n",
       "      <td>5219</td>\n",
       "      <td>6505</td>\n",
       "      <td>106</td>\n",
       "      <td>1656</td>\n",
       "      <td>2013</td>\n",
       "      <td>18574</td>\n",
       "    </tr>\n",
       "  </tbody>\n",
       "</table>\n",
       "</div>"
      ],
      "text/plain": [
       "         년월  강력범   절도범   폭력범   지능범  풍속범  기타형사범  year  total\n",
       "72  2013-01  396  4858  4990  6336  126   1631  2013  18337\n",
       "73  2013-02  346  4382  4192  4900  115   1259  2013  15194\n",
       "74  2013-03  444  4266  4936  5829  129   1495  2013  17099\n",
       "75  2013-04  546  4915  5363  6499  125   1748  2013  19196\n",
       "76  2013-05  558  5203  5834  7029  133   1662  2013  20419\n",
       "77  2013-06  619  5871  5740  6133  142   1640  2013  20145\n",
       "78  2013-07  649  5830  6366  7115  146   1930  2013  22036\n",
       "79  2013-08  615  5650  5796  6345  120   1764  2013  20290\n",
       "80  2013-09  547  5602  5603  6126  139   1693  2013  19710\n",
       "81  2013-01  669  5690  6016  6762  166   2099  2013  21402\n",
       "82  2013-11  415  4702  5367  6962  115   1988  2013  19549\n",
       "83  2013-12  472  4616  5219  6505  106   1656  2013  18574"
      ]
     },
     "execution_count": 254,
     "metadata": {},
     "output_type": "execute_result"
    }
   ],
   "source": [
    "answer_df"
   ]
  },
  {
   "cell_type": "code",
   "execution_count": 255,
   "metadata": {},
   "outputs": [
    {
     "data": {
      "text/plain": [
       "19329"
      ]
     },
     "execution_count": 255,
     "metadata": {},
     "output_type": "execute_result"
    }
   ],
   "source": [
    "answer = int(answer_df['total'].mean())\n",
    "answer"
   ]
  },
  {
   "cell_type": "code",
   "execution_count": null,
   "metadata": {},
   "outputs": [],
   "source": []
  }
 ],
 "metadata": {
  "kernelspec": {
   "display_name": "[tensorflow]",
   "language": "python",
   "name": "python3"
  },
  "language_info": {
   "codemirror_mode": {
    "name": "ipython",
    "version": 3
   },
   "file_extension": ".py",
   "mimetype": "text/x-python",
   "name": "python",
   "nbconvert_exporter": "python",
   "pygments_lexer": "ipython3",
   "version": "3.10.14"
  }
 },
 "nbformat": 4,
 "nbformat_minor": 2
}
